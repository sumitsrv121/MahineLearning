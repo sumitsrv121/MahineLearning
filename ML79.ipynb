{
 "cells": [
  {
   "cell_type": "code",
   "execution_count": 21,
   "metadata": {},
   "outputs": [],
   "source": [
    "import os\n",
    "from collections import Counter\n",
    "import numpy as np\n",
    "from sklearn.naive_bayes import GaussianNB"
   ]
  },
  {
   "cell_type": "code",
   "execution_count": 2,
   "metadata": {},
   "outputs": [],
   "source": [
    "testing = r'D:\\ml_practice\\machine-learning-101\\chapter1\\test-mails'\n",
    "training = r'D:\\ml_practice\\machine-learning-101\\chapter1\\train-mails'"
   ]
  },
  {
   "cell_type": "code",
   "execution_count": 13,
   "metadata": {},
   "outputs": [],
   "source": [
    "def make_dictionry(training_dir):\n",
    "    mails = [os.path.join(training_dir,f) for f in os.listdir(training_dir)]\n",
    "    words=[]\n",
    "    for mail in mails:\n",
    "        with open(mail) as m:\n",
    "            for line in m:\n",
    "                words += line.split()\n",
    "    dictionary = Counter(words)\n",
    "    list_to_remove = list(dictionary)\n",
    "    for word in list_to_remove:\n",
    "        if not word.isalpha():\n",
    "            del dictionary[word]\n",
    "        elif len(word)==1:\n",
    "            del dictionary[word]\n",
    "    dictionary = dictionary.most_common(3000)\n",
    "    return dictionary"
   ]
  },
  {
   "cell_type": "code",
   "execution_count": 16,
   "metadata": {},
   "outputs": [],
   "source": [
    "dictionary = make_dictionry(training)"
   ]
  },
  {
   "cell_type": "code",
   "execution_count": 19,
   "metadata": {},
   "outputs": [],
   "source": [
    "def extract_features(root_path):\n",
    "    mails = [os.path.join(root_path,f) for f in os.listdir(root_path)]\n",
    "    feature_matrix = np.zeros((len(mails),3000))\n",
    "    label = np.zeros(len(mails))\n",
    "    doc_id = 0\n",
    "    for mail in mails:\n",
    "        with open(mail) as m:\n",
    "            for i,line in enumerate(m):\n",
    "                if i==2:\n",
    "                    words = line.split()\n",
    "                    for word in words:\n",
    "                        word_id=0\n",
    "                        for j,d in enumerate(dictionary):\n",
    "                            if word == d[0]:\n",
    "                                word_id = j\n",
    "                                feature_matrix[doc_id,word_id] = words.count(word)\n",
    "        label[doc_id]=0\n",
    "        token = mail.split('\\\\')\n",
    "        file_token = token[len(token)-1]\n",
    "        if file_token.startswith('spmsga'):\n",
    "            label[doc_id] = 1\n",
    "        doc_id = doc_id +1\n",
    "    return feature_matrix,label\n",
    "            "
   ]
  },
  {
   "cell_type": "code",
   "execution_count": 22,
   "metadata": {},
   "outputs": [],
   "source": [
    "freature_matrix,training_label = extract_features(training)"
   ]
  },
  {
   "cell_type": "code",
   "execution_count": 23,
   "metadata": {},
   "outputs": [],
   "source": [
    "freature_matrix,testing_label = extract_features(testing)"
   ]
  },
  {
   "cell_type": "code",
   "execution_count": null,
   "metadata": {},
   "outputs": [],
   "source": [
    "GaussianGaussianNBssianNBssianNB"
   ]
  }
 ],
 "metadata": {
  "kernelspec": {
   "display_name": "Python 3",
   "language": "python",
   "name": "python3"
  },
  "language_info": {
   "codemirror_mode": {
    "name": "ipython",
    "version": 3
   },
   "file_extension": ".py",
   "mimetype": "text/x-python",
   "name": "python",
   "nbconvert_exporter": "python",
   "pygments_lexer": "ipython3",
   "version": "3.7.3"
  }
 },
 "nbformat": 4,
 "nbformat_minor": 2
}
